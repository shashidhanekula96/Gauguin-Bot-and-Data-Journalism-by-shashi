{
  "nbformat": 4,
  "nbformat_minor": 0,
  "metadata": {
    "colab": {
      "name": "Resnet_50_new.ipynb",
      "provenance": [],
      "collapsed_sections": [],
      "authorship_tag": "ABX9TyMovdSus6WUbaaKkHkDc/B8",
      "include_colab_link": true
    },
    "kernelspec": {
      "name": "python3",
      "display_name": "Python 3"
    },
    "accelerator": "GPU"
  },
  "cells": [
    {
      "cell_type": "markdown",
      "metadata": {
        "id": "view-in-github",
        "colab_type": "text"
      },
      "source": [
        "<a href=\"https://colab.research.google.com/github/shashidhanekula96/Gauguin-Bot-and-Data-Journalism-by-shashi/blob/master/Gauguin_Resnet_50.ipynb\" target=\"_parent\"><img src=\"https://colab.research.google.com/assets/colab-badge.svg\" alt=\"Open In Colab\"/></a>"
      ]
    },
    {
      "cell_type": "markdown",
      "metadata": {
        "id": "m1gUDO_NSej6"
      },
      "source": [
        "In this notebook I have concept of transfer learning. I have utilized a Resent-50 pre trained model and trained the model with my image dataset. This model is trained to predict classes of 11 different types of graphs with an accuracy of 76%. \r\n",
        "\r\n",
        "The graphs are Area Graph, Bar charts, Bubble Chart, Piecharts, Arc diagram, Box and Whisker Plot, Brainstorm chart, Bubble Map, Bullet Graph, Candlestick Chart, Heatmap and Bar chart.\r\n",
        "\r\n",
        "Using keras in tensorflow I have imported required packages and libraries to train the model.\r\n",
        "   \r\n",
        "   Intially, I have extracted the various types of charts from google images using 'Web scrapping' in python. \r\n",
        "  Next I trained a CNN model using Resnet 50 pre-trained model."
      ]
    },
    {
      "cell_type": "markdown",
      "metadata": {
        "id": "zpF91ZLjkcij"
      },
      "source": [
        "**Required Libraries**"
      ]
    },
    {
      "cell_type": "code",
      "metadata": {
        "id": "R0dYZpyUq9nO"
      },
      "source": [
        "from tensorflow.keras import Sequential, Model\n",
        "from tensorflow.keras.layers import Dense, Conv2DTranspose, BatchNormalization\n",
        "from tensorflow.keras.optimizers import Adam\n",
        "from tensorflow.keras.applications import ResNet50\n",
        "import pandas as pd\n",
        "import numpy as np\n",
        "import os\n",
        "from tensorflow.keras.preprocessing.image import ImageDataGenerator, img_to_array, load_img, array_to_img\n",
        "import tensorflow as tf\n",
        "import matplotlib.image as mpimg\n",
        "from  matplotlib import pyplot as plt\n",
        "from keras.applications.resnet50 import preprocess_input\n",
        "from keras.preprocessing.image import ImageDataGenerator\n",
        "from tensorflow.python.keras.models import Sequential\n",
        "from tensorflow.python.keras.layers import Dense\n",
        "from keras.applications.resnet50 import preprocess_input\n",
        "from keras.preprocessing.image import ImageDataGenerator\n",
        "%matplotlib inline"
      ],
      "execution_count": null,
      "outputs": []
    },
    {
      "cell_type": "markdown",
      "metadata": {
        "id": "LQerQPvQlZpD"
      },
      "source": [
        "Intializing hyper parameters for the model"
      ]
    },
    {
      "cell_type": "code",
      "metadata": {
        "id": "ji5kh7M8rDli"
      },
      "source": [
        "# Number of classes\n",
        "NUM_CLASSES = 11\n",
        "\n",
        "# Required channel for color images\n",
        "CHANNELS = 3\n",
        "\n",
        "# Standard Resnet 50 Image size and parameters\n",
        "IMAGE_RESIZE = 224\n",
        "RESNET50_POOLING_AVERAGE = 'avg'\n",
        "DENSE_LAYER_ACTIVATION = 'softmax'\n",
        "OBJECTIVE_FUNCTION = 'categorical_crossentropy'\n",
        "\n",
        "# These steps value should be proper FACTOR of no.-of-images in train & valid folders respectively\n",
        "# NOTE that these BATCH* are for Keras ImageDataGenerator batching to fill epoch step input\n",
        "BATCH_SIZE_TRAINING = 100\n",
        "BATCH_SIZE_VALIDATION = 100\n",
        "\n",
        "# Using 1 to easily manage mapping between test_generator & prediction for submission preparation\n",
        "BATCH_SIZE_TESTING = 1"
      ],
      "execution_count": null,
      "outputs": []
    },
    {
      "cell_type": "markdown",
      "metadata": {
        "id": "Sbg9eHazmMyW"
      },
      "source": [
        "**Uploading Data**"
      ]
    },
    {
      "cell_type": "code",
      "metadata": {
        "id": "4Op7pZkOz1V3"
      },
      "source": [
        "#using zipfile package extracting the data zipfileinto colab environment\n",
        "from zipfile import ZipFile\n",
        "Charts_new = \"Charts.zip\"\n",
        "\n",
        "with ZipFile(Charts_new,'r') as zip:\n",
        "  zip.extractall()\n",
        "  print('done')"
      ],
      "execution_count": null,
      "outputs": []
    },
    {
      "cell_type": "markdown",
      "metadata": {
        "id": "2mpm8gKkm9JP"
      },
      "source": [
        "Segregating data into Train, Test and Validation data sets"
      ]
    },
    {
      "cell_type": "code",
      "metadata": {
        "id": "zzNxpEoQy_fa",
        "colab": {
          "base_uri": "https://localhost:8080/"
        },
        "outputId": "23b1dcad-4ea0-4723-d970-d74bb4c09887"
      },
      "source": [
        "\n",
        "import os\n",
        "import numpy as np\n",
        "import shutil\n",
        "import random\n",
        "\n",
        "## Creating Train/Val/Test folders (One time use)\n",
        "root_dir = '/content/Charts'\n",
        "classes_dir = ['Area Graph', 'Bar charts', 'Bubble Chart', 'Piecharts','Arc diagram',\n",
        "               'Box and Whisker Plot','Brainstorm chart','Bubble Map','Bullet Graph',\n",
        "               'Candlestick Chart','Heatmap']\n",
        "\n",
        "for cls in classes_dir:\n",
        "    os.makedirs(root_dir +'/train' +'/'+ cls)\n",
        "    os.makedirs(root_dir +'/val' +'/'+ cls)\n",
        "    os.makedirs(root_dir +'/test' +'/'+ cls)\n",
        "\n",
        "    # Creating partitions of the data after shuffeling\n",
        "    src = root_dir + \"/\" + cls # Folder to copy images from\n",
        "\n",
        "    allFileNames = os.listdir(src)\n",
        "    np.random.shuffle(allFileNames)\n",
        "    train_FileNames, val_FileNames, test_FileNames = np.split(np.array(allFileNames),\n",
        "                                                          [int(len(allFileNames)*0.6), int(len(allFileNames)*0.85)])\n",
        "\n",
        "\n",
        "    train_FileNames = [src+'/'+ name for name in train_FileNames.tolist()]\n",
        "    val_FileNames = [src+'/' + name for name in val_FileNames.tolist()]\n",
        "    test_FileNames = [src+'/' + name for name in test_FileNames.tolist()]\n",
        "\n",
        "    print('Total images: ', len(allFileNames))\n",
        "    print('Training: ', len(train_FileNames))\n",
        "    print('Validation: ', len(val_FileNames))\n",
        "    print('Testing: ', len(test_FileNames))\n",
        "\n",
        "    # Copy-pasting images\n",
        "    for name in train_FileNames:\n",
        "        shutil.copy(name, root_dir +'/train'+'/'+ cls)\n",
        "\n",
        "    for name in val_FileNames:\n",
        "        shutil.copy(name, root_dir +'/test' +'/'+ cls)\n",
        "\n",
        "    for name in test_FileNames:\n",
        "        shutil.copy(name, root_dir +'/val' +'/'+ cls)\n"
      ],
      "execution_count": null,
      "outputs": [
        {
          "output_type": "stream",
          "text": [
            "Total images:  97\n",
            "Training:  67\n",
            "Validation:  15\n",
            "Testing:  15\n",
            "Total images:  205\n",
            "Training:  143\n",
            "Validation:  31\n",
            "Testing:  31\n",
            "Total images:  267\n",
            "Training:  186\n",
            "Validation:  40\n",
            "Testing:  41\n",
            "Total images:  189\n",
            "Training:  132\n",
            "Validation:  28\n",
            "Testing:  29\n",
            "Total images:  66\n",
            "Training:  46\n",
            "Validation:  10\n",
            "Testing:  10\n",
            "Total images:  32\n",
            "Training:  22\n",
            "Validation:  5\n",
            "Testing:  5\n",
            "Total images:  73\n",
            "Training:  51\n",
            "Validation:  11\n",
            "Testing:  11\n",
            "Total images:  446\n",
            "Training:  312\n",
            "Validation:  67\n",
            "Testing:  67\n",
            "Total images:  337\n",
            "Training:  235\n",
            "Validation:  51\n",
            "Testing:  51\n",
            "Total images:  99\n",
            "Training:  69\n",
            "Validation:  15\n",
            "Testing:  15\n",
            "Total images:  32\n",
            "Training:  22\n",
            "Validation:  5\n",
            "Testing:  5\n"
          ],
          "name": "stdout"
        }
      ]
    },
    {
      "cell_type": "markdown",
      "metadata": {
        "id": "OBD9ZQgloZWD"
      },
      "source": [
        "Image Resizing and Preprocessing using Image data generator."
      ]
    },
    {
      "cell_type": "code",
      "metadata": {
        "id": "CRrxCDM-dB_6"
      },
      "source": [
        "image_size = IMAGE_RESIZE\n",
        "\n",
        "# Each image is resized to the required value. Inorder to increase the data the augementation techinique is applied to resized image dataset.(resize => augment => pre-process)\n",
        "# Each of the keras.application.resnet* preprocess_input MOSTLY mean BATCH NORMALIZATION (applied on each batch) stabilize the inputs to nonlinear activation functions\n",
        "# Batch Normalization helps in faster convergence\n",
        "\n",
        "data_generator = ImageDataGenerator(preprocessing_function=preprocess_input)"
      ],
      "execution_count": null,
      "outputs": []
    },
    {
      "cell_type": "code",
      "metadata": {
        "id": "PXSH_uH6dHOz",
        "colab": {
          "base_uri": "https://localhost:8080/"
        },
        "outputId": "cd5d82d9-99cd-4d1c-fff9-a1815395ef68"
      },
      "source": [
        "train = root_dir + '/train'\n",
        "train_generator = data_generator.flow_from_directory(\n",
        "        train,\n",
        "        target_size=(224, 224),\n",
        "        batch_size=100,\n",
        "        class_mode='categorical')"
      ],
      "execution_count": null,
      "outputs": [
        {
          "output_type": "stream",
          "text": [
            "Found 1285 images belonging to 11 classes.\n"
          ],
          "name": "stdout"
        }
      ]
    },
    {
      "cell_type": "code",
      "metadata": {
        "id": "W-h8Zm1H4u5G",
        "colab": {
          "base_uri": "https://localhost:8080/"
        },
        "outputId": "daf6b33b-d5e8-4b61-f3cf-7a4213a7ed25"
      },
      "source": [
        "valid = root_dir + '/val'\n",
        "validation_generator = data_generator.flow_from_directory(\n",
        "        valid,\n",
        "        target_size=(224, 224),\n",
        "        batch_size=100,\n",
        "        class_mode='categorical')"
      ],
      "execution_count": null,
      "outputs": [
        {
          "output_type": "stream",
          "text": [
            "Found 280 images belonging to 11 classes.\n"
          ],
          "name": "stdout"
        }
      ]
    },
    {
      "cell_type": "code",
      "metadata": {
        "id": "lMlMsLFz6E3K",
        "colab": {
          "base_uri": "https://localhost:8080/"
        },
        "outputId": "ab527e60-f472-47ef-b991-6e55acd2e975"
      },
      "source": [
        "# len(train_generator) should be 'no. of available train images / BATCH_SIZE_TRAINING'\n",
        "# len(valid_generator) should be 'no. of available train images / BATCH_SIZE_VALIDATION'\n",
        "(BATCH_SIZE_TRAINING, len(train_generator), BATCH_SIZE_VALIDATION, len(validation_generator))"
      ],
      "execution_count": null,
      "outputs": [
        {
          "output_type": "execute_result",
          "data": {
            "text/plain": [
              "(100, 13, 100, 3)"
            ]
          },
          "metadata": {
            "tags": []
          },
          "execution_count": 28
        }
      ]
    },
    {
      "cell_type": "markdown",
      "metadata": {
        "id": "ZTEuR3QjxwyW"
      },
      "source": [
        "Importing Resnet 50 model. "
      ]
    },
    {
      "cell_type": "code",
      "metadata": {
        "id": "dtagHOIIVvBv"
      },
      "source": [
        "model = Sequential()\n",
        "model.add(ResNet50(include_top=False, \n",
        "    weights=\"imagenet\", \n",
        "    pooling='avg'))\n",
        "model.add(Dense(11, activation = 'softmax'))  # Final layer added and activation is softmax as we 1 or 0 as output.\n",
        "model.layers[0].trainable = False"
      ],
      "execution_count": null,
      "outputs": []
    },
    {
      "cell_type": "code",
      "metadata": {
        "id": "XVUwGbj253Vx",
        "colab": {
          "base_uri": "https://localhost:8080/"
        },
        "outputId": "cece857f-5a0e-4dd4-ec21-b4068bba58b8"
      },
      "source": [
        "model.summary()"
      ],
      "execution_count": null,
      "outputs": [
        {
          "output_type": "stream",
          "text": [
            "Model: \"sequential_1\"\n",
            "_________________________________________________________________\n",
            "Layer (type)                 Output Shape              Param #   \n",
            "=================================================================\n",
            "resnet50 (Functional)        (None, 2048)              23587712  \n",
            "_________________________________________________________________\n",
            "dense_1 (Dense)              (None, 11)                22539     \n",
            "=================================================================\n",
            "Total params: 23,610,251\n",
            "Trainable params: 22,539\n",
            "Non-trainable params: 23,587,712\n",
            "_________________________________________________________________\n"
          ],
          "name": "stdout"
        }
      ]
    },
    {
      "cell_type": "code",
      "metadata": {
        "id": "vuL046gF57dP"
      },
      "source": [
        "from tensorflow.python.keras import optimizers\n",
        "\n",
        "sgd = tf.keras.optimizers.SGD(lr = 0.01, decay = 1e-6, momentum = 0.9, nesterov = True)  # learning ratio is assigned small to avoid improper model learning.\n",
        "model.compile(optimizer = sgd, loss = 'categorical_crossentropy', metrics = ['accuracy'])"
      ],
      "execution_count": null,
      "outputs": []
    },
    {
      "cell_type": "code",
      "metadata": {
        "id": "4vxdQZMw6SDS"
      },
      "source": [
        "fit_history = model.fit_generator(\n",
        "        train_generator,\n",
        "        steps_per_epoch=10,\n",
        "        epochs = 10,\n",
        "        validation_data=validation_generator,\n",
        "        validation_steps=10)"
      ],
      "execution_count": null,
      "outputs": []
    },
    {
      "cell_type": "code",
      "metadata": {
        "id": "DBZ8xxRG8lrA"
      },
      "source": [
        "model.save(\"resnet50_1.h5\")"
      ],
      "execution_count": null,
      "outputs": []
    },
    {
      "cell_type": "code",
      "metadata": {
        "id": "2V76vE8Y8se0",
        "colab": {
          "base_uri": "https://localhost:8080/"
        },
        "outputId": "5d3dbb80-e03a-4e28-b7f3-825391997661"
      },
      "source": [
        "print(fit_history.history.keys())"
      ],
      "execution_count": null,
      "outputs": [
        {
          "output_type": "stream",
          "text": [
            "dict_keys(['loss', 'accuracy', 'val_loss', 'val_accuracy'])\n"
          ],
          "name": "stdout"
        }
      ]
    },
    {
      "cell_type": "markdown",
      "metadata": {
        "id": "XURsMvwI0YoA"
      },
      "source": [
        "Illustrating performance measures"
      ]
    },
    {
      "cell_type": "code",
      "metadata": {
        "id": "BwfWfcF_8weB",
        "colab": {
          "base_uri": "https://localhost:8080/",
          "height": 266
        },
        "outputId": "cf881948-0d94-436f-8ff2-275c65b30fc9"
      },
      "source": [
        " plt.figure(1, figsize = (15,8)) \n",
        "    \n",
        "plt.subplot(221)  \n",
        "plt.plot(fit_history.history['accuracy'])  \n",
        "plt.plot(fit_history.history['val_accuracy'])  \n",
        "plt.title('model accuracy')  \n",
        "plt.ylabel('accuracy')  \n",
        "plt.xlabel('epoch')  \n",
        "plt.legend(['train', 'valid']) \n",
        "    \n",
        "plt.subplot(222)  \n",
        "plt.plot(fit_history.history['loss'])  \n",
        "plt.plot(fit_history.history['val_loss'])  \n",
        "plt.title('model loss')  \n",
        "plt.ylabel('loss')  \n",
        "plt.xlabel('epoch')  \n",
        "plt.legend(['train', 'valid']) \n",
        "\n",
        "plt.show()"
      ],
      "execution_count": null,
      "outputs": [
        {
          "output_type": "display_data",
          "data": {
            "image/png": "[encoded data removed]",
            "text/plain": [
              "<Figure size 1080x576 with 2 Axes>"
            ]
          },
          "metadata": {
            "tags": [],
            "needs_background": "light"
          }
        }
      ]
    },
    {
      "cell_type": "code",
      "metadata": {
        "id": "TGpu2QS480S6",
        "colab": {
          "base_uri": "https://localhost:8080/"
        },
        "outputId": "1a1b48e1-5e70-47a8-bf1c-a85c2d944de5"
      },
      "source": [
        "test = root_dir + '/test'\n",
        "test_generator = data_generator.flow_from_directory(\n",
        "    directory = test,\n",
        "    target_size = (image_size, image_size),\n",
        "    batch_size = BATCH_SIZE_TESTING,\n",
        "    class_mode = None,\n",
        "    shuffle = False,\n",
        "    seed = 123\n",
        ")"
      ],
      "execution_count": null,
      "outputs": [
        {
          "output_type": "stream",
          "text": [
            "Found 278 images belonging to 11 classes.\n"
          ],
          "name": "stdout"
        }
      ]
    },
    {
      "cell_type": "code",
      "metadata": {
        "id": "r_f3gZPh87Wa",
        "colab": {
          "base_uri": "https://localhost:8080/"
        },
        "outputId": "3af9aa5a-b0eb-4194-c4eb-a0b4f5354751"
      },
      "source": [
        "test_generator.reset()\n",
        "\n",
        "# Predicting the clases of test data using trained model\n",
        "\n",
        "pred = model.predict_generator(test_generator, steps = len(test_generator), verbose = 1)\n",
        "\n",
        "predicted_class_indices = np.argmax(pred, axis = 1)"
      ],
      "execution_count": null,
      "outputs": [
        {
          "output_type": "stream",
          "text": [
            "WARNING:tensorflow:From <ipython-input-43-e91e640e2ccc>:3: Model.predict_generator (from tensorflow.python.keras.engine.training) is deprecated and will be removed in a future version.\n",
            "Instructions for updating:\n",
            "Please use Model.predict, which supports generators.\n",
            "  1/278 [..............................] - ETA: 0sWARNING:tensorflow:Callbacks method `on_predict_batch_end` is slow compared to the batch time (batch time: 0.0089s vs `on_predict_batch_end` time: 0.0160s). Check your callbacks.\n",
            "278/278 [==============================] - 6s 20ms/step\n"
          ],
          "name": "stdout"
        }
      ]
    },
    {
      "cell_type": "code",
      "metadata": {
        "id": "AiF854_K8-Co"
      },
      "source": [
        "def plot_confusion_matrix(test_y, predict_y):\n",
        "    C = confusion_matrix(test_y, predict_y)\n",
        "    print(\"-\"*20, \"Confusion matrix\", \"-\"*20)\n",
        "    plt.figure(figsize=(20,7))\n",
        "    labels=['Area Graph', 'Bar charts', 'Bubble Chart', 'Piecharts','Arc diagram',\n",
        "               'Box and Whisker Plot','Brainstorm chart','Bubble Map','Bullet Graph',\n",
        "               'Candlestick Chart','Heatmap']\n",
        "    sns.heatmap(C, annot=True, cmap=\"YlGnBu\",fmt=\".3f\", xticklabels=labels, yticklabels=labels)\n",
        "    plt.xlabel('Predicted Class')\n",
        "    plt.ylabel('Original Class')\n",
        "    plt.show()"
      ],
      "execution_count": null,
      "outputs": []
    },
    {
      "cell_type": "markdown",
      "metadata": {
        "id": "e7PzPQs-01Ed"
      },
      "source": [
        "Confusion Matrix for test data"
      ]
    },
    {
      "cell_type": "code",
      "metadata": {
        "id": "YCxrPSFT9A_c",
        "colab": {
          "base_uri": "https://localhost:8080/",
          "height": 435
        },
        "outputId": "1d546a72-337c-480e-9bba-676cbe4f1d5d"
      },
      "source": [
        "from sklearn.metrics import classification_report, confusion_matrix\n",
        "import seaborn as sns\n",
        "y_pred = np.argmax(pred, axis=1)\n",
        "plot_confusion_matrix(test_generator.classes, y_pred)"
      ],
      "execution_count": null,
      "outputs": [
        {
          "output_type": "stream",
          "text": [
            "-------------------- Confusion matrix --------------------\n"
          ],
          "name": "stdout"
        },
        {
          "output_type": "display_data",
          "data": {
            "image/png": "[encoded data removed]",
            "text/plain": [
              "<Figure size 1440x504 with 2 Axes>"
            ]
          },
          "metadata": {
            "tags": [],
            "needs_background": "light"
          }
        }
      ]
    },
    {
      "cell_type": "code",
      "metadata": {
        "id": "mC-v-Zp49DV-",
        "colab": {
          "base_uri": "https://localhost:8080/"
        },
        "outputId": "65aaec09-d3c4-453b-c483-bf4f3e673608"
      },
      "source": [
        "from sklearn.metrics import classification_report, confusion_matrix\n",
        "y_pred = np.argmax(pred, axis=1)\n",
        "print('Classification Report')\n",
        "target_names = ['Area Graph', 'Bar charts', 'Bubble Chart', 'Piecharts','Arc diagram',\n",
        "               'Box and Whisker Plot','Brainstorm chart','Bubble Map','Bullet Graph',\n",
        "               'Candlestick Chart','Heatmap']\n",
        "print(classification_report(test_generator.classes, y_pred, target_names=target_names))"
      ],
      "execution_count": null,
      "outputs": [
        {
          "output_type": "stream",
          "text": [
            "Classification Report\n",
            "                      precision    recall  f1-score   support\n",
            "\n",
            "          Area Graph       1.00      0.90      0.95        10\n",
            "          Bar charts       0.85      0.73      0.79        15\n",
            "        Bubble Chart       0.74      0.65      0.69        31\n",
            "           Piecharts       0.40      0.40      0.40         5\n",
            "         Arc diagram       0.43      0.27      0.33        11\n",
            "Box and Whisker Plot       0.85      0.82      0.84        40\n",
            "    Brainstorm chart       0.78      0.87      0.82        67\n",
            "          Bubble Map       0.73      0.84      0.78        51\n",
            "        Bullet Graph       0.54      0.47      0.50        15\n",
            "   Candlestick Chart       0.80      0.80      0.80         5\n",
            "             Heatmap       0.89      0.86      0.87        28\n",
            "\n",
            "            accuracy                           0.77       278\n",
            "           macro avg       0.73      0.69      0.71       278\n",
            "        weighted avg       0.77      0.77      0.76       278\n",
            "\n"
          ],
          "name": "stdout"
        }
      ]
    },
    {
      "cell_type": "code",
      "metadata": {
        "id": "UzEyPrIN9GHo"
      },
      "source": [
        "results_df = pd.DataFrame(\n",
        "    {\n",
        "        'id': pd.Series(test_generator.filenames), \n",
        "        'predicted': pd.Series(predicted_class_indices)\n",
        "    })\n",
        "results_df[120:170]"
      ],
      "execution_count": null,
      "outputs": []
    },
    {
      "cell_type": "code",
      "metadata": {
        "id": "bzjtb2EP9NQB"
      },
      "source": [
        "correct = np.nonzero(y_pred == test_generator.classes)[0]\n",
        "incorrect = np.nonzero(y_pred != test_generator.classes)[0]"
      ],
      "execution_count": null,
      "outputs": []
    },
    {
      "cell_type": "code",
      "metadata": {
        "id": "e7zcdfwX9N2x",
        "colab": {
          "base_uri": "https://localhost:8080/"
        },
        "outputId": "a875d22c-df06-4626-ffe6-38b499879fd1"
      },
      "source": [
        "print(\"Misclassified Images: {:.2f}\".format((len(incorrect)/(len(correct)+len(incorrect)))*100))\n",
        "print(\"Classified Images: {:.2f}\".format((len(correct)/(len(correct)+len(incorrect)))*100))"
      ],
      "execution_count": null,
      "outputs": [
        {
          "output_type": "stream",
          "text": [
            "Misclassified Images: 23.02\n",
            "Classified Images: 76.98\n"
          ],
          "name": "stdout"
        }
      ]
    },
    {
      "cell_type": "markdown",
      "metadata": {
        "id": "K9EcxFEX1M8e"
      },
      "source": [
        "For testing different models"
      ]
    },
    {
      "cell_type": "markdown",
      "metadata": {
        "id": "yGG3TkYB_p9Q"
      },
      "source": [
        "New Model with Higher trainable parameters"
      ]
    },
    {
      "cell_type": "code",
      "metadata": {
        "id": "fOZfdv4p_Vng"
      },
      "source": [
        "# A Vgg-16 model is hardcoded\n",
        "\n",
        "model = Sequential()\n",
        "model.add(Conv2D(input_shape=(224,224,3),filters=64,kernel_size=(3,3),padding=\"same\", activation=\"relu\"))\n",
        "model.add(Conv2D(filters=64,kernel_size=(3,3),padding=\"same\", activation=\"relu\"))\n",
        "model.add(MaxPool2D(pool_size=(2,2),strides=(2,2)))\n",
        "model.add(Conv2D(filters=128, kernel_size=(3,3), padding=\"same\", activation=\"relu\"))\n",
        "model.add(Conv2D(filters=128, kernel_size=(3,3), padding=\"same\", activation=\"relu\"))\n",
        "#Can use for extra layers\n",
        "model.add(MaxPool2D(pool_size=(2,2),strides=(2,2)))\n",
        "model.add(Conv2D(filters=256, kernel_size=(3,3), padding=\"same\", activation=\"relu\"))\n",
        "model.add(Conv2D(filters=256, kernel_size=(3,3), padding=\"same\", activation=\"relu\"))\n",
        "model.add(Conv2D(filters=256, kernel_size=(3,3), padding=\"same\", activation=\"relu\"))\n",
        "model.add(MaxPool2D(pool_size=(2,2),strides=(2,2)))\n",
        "model.add(MaxPool2D(pool_size=(2,2),strides=(2,2)))\n",
        "model.add(Conv2D(filters=512, kernel_size=(3,3), padding=\"same\", activation=\"relu\"))\n",
        "model.add(Conv2D(filters=512, kernel_size=(3,3), padding=\"same\", activation=\"relu\"))\n",
        "model.add(Conv2D(filters=512, kernel_size=(3,3), padding=\"same\", activation=\"relu\"))\n",
        "model.add(MaxPool2D(pool_size=(2,2),strides=(2,2)))\n",
        "model.add(Conv2D(filters=512, kernel_size=(3,3), padding=\"same\", activation=\"relu\"))\n",
        "model.add(Conv2D(filters=512, kernel_size=(3,3), padding=\"same\", activation=\"relu\"))\n",
        "model.add(Conv2D(filters=512, kernel_size=(3,3), padding=\"same\", activation=\"relu\"))\n",
        "model.add(Flatten())\n",
        "model.add(Dense(units=4096,activation=\"relu\"))\n",
        "model.add(Dense(units=4096,activation=\"relu\"))\n",
        "model.add(Dense(units=11, activation=\"softmax\"))\n"
      ],
      "execution_count": null,
      "outputs": []
    },
    {
      "cell_type": "code",
      "metadata": {
        "id": "e7AxWfbP_5Z6"
      },
      "source": [
        "from keras.optimizers import Adam\n",
        "opt = Adam(lr=0.001)\n",
        "model.compile(optimizer=opt, loss=keras.losses.categorical_crossentropy, metrics=['accuracy'])\n"
      ],
      "execution_count": null,
      "outputs": []
    },
    {
      "cell_type": "code",
      "metadata": {
        "id": "QTTtnPDa_8MI",
        "colab": {
          "base_uri": "https://localhost:8080/"
        },
        "outputId": "a5c5e509-2c80-4f35-fb2f-149c07a6b511"
      },
      "source": [
        "model.summary()"
      ],
      "execution_count": null,
      "outputs": [
        {
          "output_type": "stream",
          "text": [
            "Model: \"sequential_3\"\n",
            "_________________________________________________________________\n",
            "Layer (type)                 Output Shape              Param #   \n",
            "=================================================================\n",
            "conv2d_13 (Conv2D)           (None, 224, 224, 64)      1792      \n",
            "_________________________________________________________________\n",
            "conv2d_14 (Conv2D)           (None, 224, 224, 64)      36928     \n",
            "_________________________________________________________________\n",
            "max_pooling2d_5 (MaxPooling2 (None, 112, 112, 64)      0         \n",
            "_________________________________________________________________\n",
            "conv2d_15 (Conv2D)           (None, 112, 112, 128)     73856     \n",
            "_________________________________________________________________\n",
            "conv2d_16 (Conv2D)           (None, 112, 112, 128)     147584    \n",
            "_________________________________________________________________\n",
            "max_pooling2d_6 (MaxPooling2 (None, 56, 56, 128)       0         \n",
            "_________________________________________________________________\n",
            "conv2d_17 (Conv2D)           (None, 56, 56, 256)       295168    \n",
            "_________________________________________________________________\n",
            "conv2d_18 (Conv2D)           (None, 56, 56, 256)       590080    \n",
            "_________________________________________________________________\n",
            "conv2d_19 (Conv2D)           (None, 56, 56, 256)       590080    \n",
            "_________________________________________________________________\n",
            "max_pooling2d_7 (MaxPooling2 (None, 28, 28, 256)       0         \n",
            "_________________________________________________________________\n",
            "max_pooling2d_8 (MaxPooling2 (None, 14, 14, 256)       0         \n",
            "_________________________________________________________________\n",
            "conv2d_20 (Conv2D)           (None, 14, 14, 512)       1180160   \n",
            "_________________________________________________________________\n",
            "conv2d_21 (Conv2D)           (None, 14, 14, 512)       2359808   \n",
            "_________________________________________________________________\n",
            "conv2d_22 (Conv2D)           (None, 14, 14, 512)       2359808   \n",
            "_________________________________________________________________\n",
            "max_pooling2d_9 (MaxPooling2 (None, 7, 7, 512)         0         \n",
            "_________________________________________________________________\n",
            "conv2d_23 (Conv2D)           (None, 7, 7, 512)         2359808   \n",
            "_________________________________________________________________\n",
            "conv2d_24 (Conv2D)           (None, 7, 7, 512)         2359808   \n",
            "_________________________________________________________________\n",
            "conv2d_25 (Conv2D)           (None, 7, 7, 512)         2359808   \n",
            "_________________________________________________________________\n",
            "flatten_1 (Flatten)          (None, 25088)             0         \n",
            "_________________________________________________________________\n",
            "dense_5 (Dense)              (None, 4096)              102764544 \n",
            "_________________________________________________________________\n",
            "dense_6 (Dense)              (None, 4096)              16781312  \n",
            "_________________________________________________________________\n",
            "dense_7 (Dense)              (None, 11)                45067     \n",
            "=================================================================\n",
            "Total params: 134,305,611\n",
            "Trainable params: 134,305,611\n",
            "Non-trainable params: 0\n",
            "_________________________________________________________________\n"
          ],
          "name": "stdout"
        }
      ]
    },
    {
      "cell_type": "code",
      "metadata": {
        "id": "18mmi5-j_-uM"
      },
      "source": [
        "\n",
        "from keras.callbacks import ModelCheckpoint, EarlyStopping\n",
        "checkpoint = ModelCheckpoint(\"vgg16_1.h5\", monitor='val_acc', verbose=1, save_best_only=True, save_weights_only=False, mode='auto', period=1)\n",
        "early = EarlyStopping(monitor='val_acc', min_delta=0, patience=20, verbose=1, mode='auto')\n",
        "\n",
        "hist = model.fit_generator(train_generator,steps_per_epoch=25,validation_data=validation_generator,\n",
        "                           validation_steps=10,epochs=25,\n",
        "                           callbacks=[checkpoint,early])"
      ],
      "execution_count": null,
      "outputs": []
    },
    {
      "cell_type": "code",
      "metadata": {
        "id": "RPJC8ZCQAKi7"
      },
      "source": [
        ""
      ],
      "execution_count": null,
      "outputs": []
    }
  ]
}